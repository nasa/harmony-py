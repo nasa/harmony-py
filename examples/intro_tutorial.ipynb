{
 "cells": [
  {
   "cell_type": "markdown",
   "id": "1fdecb55",
   "metadata": {},
   "source": [
    "## HarmonyPy Introduction\n",
    "\n",
    "This notebook demonstrates several basic examples highlighting how to query and access customized data outputs from NASA Earthdata Harmony. See https://harmony-py.readthedocs.io/en/latest/ for detailed documentation on HarmonyPy."
   ]
  },
  {
   "cell_type": "markdown",
   "id": "e78bfac8",
   "metadata": {
    "tags": []
   },
   "source": [
    "### Import packages\n",
    "\n",
    "First we import packages needed to request and visualize our data, as well as the `harmony-py` library itself. Make sure to install `harmony-py` and its dependencies into your current Python environment prior to executing the notebook:\n",
    "\n",
    "```\n",
    "pip install -U harmony-py\n",
    "```"
   ]
  },
  {
   "cell_type": "code",
   "execution_count": null,
   "id": "ed97d7e6-795a-41d7-9025-3f5a9b360e34",
   "metadata": {
    "tags": []
   },
   "outputs": [],
   "source": [
    "# Install notebook requirements\n",
    "import sys\n",
    "import helper\n",
    "# Install the project and 'examples' dependencies\n",
    "helper.install_project_and_dependencies('..', libs=['examples'])"
   ]
  },
  {
   "cell_type": "code",
   "execution_count": null,
   "id": "16815631",
   "metadata": {
    "tags": []
   },
   "outputs": [],
   "source": [
    "import datetime as dt\n",
    "from IPython.display import display, JSON\n",
    "import os\n",
    "import rasterio\n",
    "import rasterio.plot\n",
    "\n",
    "from harmony import BBox, WKT, Client, Collection, Request\n",
    "from harmony.config import Environment"
   ]
  },
  {
   "cell_type": "markdown",
   "id": "5756b9cb",
   "metadata": {},
   "source": [
    "### Quick start\n",
    "\n",
    "You can request and download data using `harmony-py` in just a few easy lines. Although more advanced subsetting and transformation options may be supported on your data product of interest, this example below demonstrates a basic spatial bounding box and temporal range request, using the direct download method: \n",
    "\n",
    "```\n",
    "harmony_client = Client(auth=('EDL_username', 'EDL_password'))\n",
    "request = Request(\n",
    "    collection=Collection(id=dataset_short_name),\n",
    "    spatial=BBox(w, s, e, n),\n",
    "    temporal={\n",
    "        'start': dt.datetime(yyyy, mm, dd),\n",
    "        'stop': dt.datetime(yyyy, mm, dd)\n",
    "    }\n",
    ")\n",
    "job_id = harmony_client.submit(request)\n",
    "results = harmony_client.download_all(job_id, directory='/tmp', overwrite=True)\n",
    "```"
   ]
  },
  {
   "cell_type": "markdown",
   "id": "5761b37e",
   "metadata": {},
   "source": [
    "The guidance below offers more detailed examples highlighting many of the helpful features provided by the Harmony Py library, including direct s3 access from Earthdata Cloud-hosted data if running in the AWS us-west-2 region."
   ]
  },
  {
   "cell_type": "markdown",
   "id": "55fe72b5",
   "metadata": {},
   "source": [
    "### Create Harmony Client object\n",
    "\n",
    "First, you will need to create your Harmony Client, which is what you will interact with to submit and inspect a data request to Harmony, as well as to retrieve your results. \n",
    "\n",
    "When creating the Client, you need to provide either your EDL token or your [Earthdata Login](https://urs.earthdata.nasa.gov) credentials, which are required to access data from NASA EOSDIS. There are four options for providing your Earthdata Login token or username and password when creating a Harmony Client: \n",
    "\n",
    "1. Provide EDL token using environment variable:\n",
    "\n",
    "```\n",
    "$ export EDL_TOKEN='my_eld_token'\n",
    "```\n",
    "\n",
    "2. Provide your username and password directly when creating the client:\n",
    "\n",
    "```\n",
    "harmony_client = Client(auth=('captainmarvel', 'marve10u5'))\n",
    "```\n",
    "\n",
    "3. Set your credentials using environment variables:\n",
    "\n",
    "You can either export these directly: \n",
    "\n",
    "```\n",
    "$ export EDL_USERNAME='captainmarvel'\n",
    "$ export EDL_PASSWORD='marve10u5'\n",
    "```\n",
    "Or by storing them in a .env file, which operates in a similar fashion to .netrc. You will need to store the file in your current working directory and it must be named .env with the following format:\n",
    "\n",
    "```\n",
    "EDL_USERNAME=myusername\n",
    "EDL_PASSWORD=mypass\n",
    "```\n",
    "\n",
    "4. Use a .netrc file:\n",
    "\n",
    "Create a .netrc file in your home directory, using the example below:\n",
    "\n",
    "```\n",
    "machine urs.earthdata.nasa.gov\n",
    "login captainmarvel\n",
    "password marve10u5\n",
    "```\n",
    "\n",
    "The code below will create a Harmony Client using EDL token if the `EDL_TOKEN` envrionment variable is defined or use .netrc file if the `EDL_TOKEN` envrionment variable is not defined."
   ]
  },
  {
   "cell_type": "code",
   "execution_count": null,
   "id": "45bc3815-7f6c-4cc3-8ed0-c495468d5074",
   "metadata": {
    "tags": []
   },
   "outputs": [],
   "source": [
    "token = os.getenv('EDL_TOKEN')\n",
    "if (token is None or token == ''):\n",
    "    print('Use .netrc for client authentication')\n",
    "    harmony_client = Client()\n",
    "else:\n",
    "    print('Use EDL token from the environment for client authentication')\n",
    "    harmony_client = Client(token=token)"
   ]
  },
  {
   "cell_type": "markdown",
   "id": "0e98db2c",
   "metadata": {},
   "source": [
    "### Create Harmony Request\n",
    "\n",
    "The following are common request parameters:\n",
    "\n",
    "* `collection`: Required parameter. This is the NASA EOSDIS collection, or data product. There are two options for inputting a collection of interest:\n",
    "    1. Provide a concept ID, which is an ID provided in the Common Metadata Repository (CMR) metadata\n",
    "    2. Data product short name (e.g. SENTINEL-1_INTERFEROGRAMS). \n",
    "* `spatial`: Bounding box or Well Known Text (WKT) spatial constraints on the data. The Harmony `Bbox` class accepts spatial coordinates as decimal degrees in w, s, e, n order, where longitude = -180, 180 and latitude = -90, 90. The Harmony `WKT` class accepts WKT string as spatial constraints.\n",
    "* `shape`: Perform a shapefile subsetting request on a supported collection by passing the path to a GeoJSON file (*.json or .geojson), an ESRI Shapefile (.zip or .shz), or a kml file (.kml) as the \"shape\" parameter\n",
    "* `temporal`: Date/time constraints on the data. The example below demonstrates temporal start and end ranges using the python `datetime` library.\n",
    "\n",
    "Other advanced parameters that may be of interest. Note that many reformatting or advanced projection options may not be available for your requested dataset. See the [documentation](https://harmony-py.readthedocs.io/en/latest/) for details on how to construct these parameters.\n",
    "\n",
    "* `crs`: Reproject the output coverage to the given CRS. Recognizes CRS types that can be inferred by gdal, including EPSG codes, Proj4 strings, and OGC URLs (http://www.opengis.net/def/crs/…)\n",
    "* `interpolation`: specify the interpolation method used during reprojection and scaling\n",
    "* `scale_extent`: scale the resulting coverage either among one axis to a given extent\n",
    "* `scale_size`: scale the resulting coverage either among one axis to a given size\n",
    "* `granule_id`: The CMR Granule ID for the granule (file) which should be retrieved\n",
    "* `width`: number of columns to return in the output coverage\n",
    "* `height`: number of rows to return in the output coverage\n",
    "* `format`: the output mime type to return\n",
    "* `max_results`: limits the number of input files processed in the request"
   ]
  },
  {
   "cell_type": "markdown",
   "id": "4945d617",
   "metadata": {},
   "source": [
    "The example utilized in this tutorial demonstrates a shapefile subset of the Big Island of Hawaii on February 24, 2020. A bounding box subset over the Mauna Kea and Mauna Loa volcanoes is also commented out below to show a similar subsetting option. The SENTINEL-1_INTERFEROGRAMS dataset, distributed by the ASF DAAC, is a prototype Level 2 NISAR-Format product. See https://asf.alaska.edu/data-sets/derived-data-sets/sentinel-1-interferograms/ for more information. \n",
    "\n",
    "This request specifies a subset of the unwrappedPhase variable, in TIFF format, with a maximum file result capped at 2 for demonstration purposes. \n",
    "\n",
    "#### ___Note that a Sentinel-3 End-User License Agreement (EULA) is required to access these data.___\n",
    "#### ___Please go to https://grfn.asf.alaska.edu/door/download/S1-GUNW-D-R-021-tops-20201029_20191029-033636-28753N_27426N-PP-2dde-v2_0_3.nc  to initiate a file download, which will first prompt you to accept the required EULA if you have not already done so. If you do not accept this EULA, you will receive an error when submitting your Harmony request.___"
   ]
  },
  {
   "cell_type": "code",
   "execution_count": null,
   "id": "d5e3dd34",
   "metadata": {},
   "outputs": [],
   "source": [
    "shapefile_path = 'Big_Island_0005.zip'\n",
    "\n",
    "request = Request(\n",
    "    collection=Collection(id='SENTINEL-1_INTERFEROGRAMS'),\n",
    "    # spatial=BBox(-155.75, 19.26, -155.3, 19.94), # bounding box example that can be used as an alternative to shapefile input\n",
    "    # spatial=WKT('POLYGON((-155.75 19.26, -155.3 19.26, -155.3 19.94, -155.75 19.94, -155.75 19.26))'), # WKT example\n",
    "    shape=shapefile_path,\n",
    "    temporal={\n",
    "        'start': dt.datetime(2020, 2, 24),\n",
    "        'stop': dt.datetime(2020, 2, 25),\n",
    "    },\n",
    "    variables=['science/grids/data/unwrappedPhase'],\n",
    "    format='image/tiff',\n",
    "    max_results=2,\n",
    "    # If desired, deliver results to a custom destination bucket. Note the bucket must reside in AWS us-west-2 region.\n",
    "    # destination_url='s3://my-bucket'\n",
    ")"
   ]
  },
  {
   "cell_type": "markdown",
   "id": "7cfa596e",
   "metadata": {},
   "source": [
    "### Check Request validity\n",
    "\n",
    "Before submitting a Harmony Request, you can test your request to see if it's valid and how to fix it if not. In particular, `request.is_valid` will check to ensure that your spatial BBox bounds and temporal ranges are entered correctly.  "
   ]
  },
  {
   "cell_type": "code",
   "execution_count": null,
   "id": "d67e01f1",
   "metadata": {},
   "outputs": [],
   "source": [
    "print(f\"Request valid? {request.is_valid()}\")\n",
    "for m in request.error_messages():\n",
    "    print(\" * \" + m)"
   ]
  },
  {
   "cell_type": "markdown",
   "id": "1897a407",
   "metadata": {},
   "source": [
    "### Submit Request\n",
    "\n",
    "Once you have created your request, you can now submit it to Harmony using the Harmony Client object. A job id is returned, which is a unique identifier that represents your submitted request.\n",
    "\n",
    "By default the job will have a 'harmony_py' label. This can be disabled by setting the `EXCLUDE_DEFAULT_LABEL` environment variable to \"true\" before making the request."
   ]
  },
  {
   "cell_type": "code",
   "execution_count": null,
   "id": "07ecfd25",
   "metadata": {},
   "outputs": [],
   "source": [
    "job_id = harmony_client.submit(request)\n",
    "job_id"
   ]
  },
  {
   "cell_type": "markdown",
   "id": "175d09bb",
   "metadata": {},
   "source": [
    "### Check Request status\n",
    "\n",
    "You can check on the progress of a processing job with `status()`. This method blocks while communicating with the server but returns quickly. The JSON helper function provides a nicer formatting option for viewing the status message. "
   ]
  },
  {
   "cell_type": "code",
   "execution_count": null,
   "id": "5b320ac5",
   "metadata": {},
   "outputs": [],
   "source": [
    "JSON(harmony_client.status(job_id))"
   ]
  },
  {
   "cell_type": "markdown",
   "id": "7bee7f9f",
   "metadata": {},
   "source": [
    "Depending on the size of the request, you may want to wait until the request has completed processing before the remainder of your code is executed. The `wait_for_processing()` method will block subsequent lines of code while optionally showing a progress bar."
   ]
  },
  {
   "cell_type": "code",
   "execution_count": null,
   "id": "be0dabc1",
   "metadata": {},
   "outputs": [],
   "source": [
    "harmony_client.wait_for_processing(job_id, show_progress=True)"
   ]
  },
  {
   "cell_type": "markdown",
   "id": "41452b7c",
   "metadata": {},
   "source": [
    "### View Harmony job response and output URLs\n",
    "\n",
    "Once your data request has finished processing, you can view details on the job that was submitted to Harmony, including the API call to Harmony, and informational messages on your request if available. \n",
    "\n",
    "`result_json()` calls `wait_for_processing()` and returns the complete job in JSON format once processing is complete. You may optionally show the progress bar using the same `show_progress=True` statement in the previous line. "
   ]
  },
  {
   "cell_type": "code",
   "execution_count": null,
   "id": "feff999b",
   "metadata": {},
   "outputs": [],
   "source": [
    "data = harmony_client.result_json(job_id)\n",
    "JSON(data)"
   ]
  },
  {
   "cell_type": "markdown",
   "id": "02567b42",
   "metadata": {},
   "source": [
    "### Download and visualize Harmony output files\n",
    "\n",
    "The files returned from your request are returned as HTTPS URLs in all cases other than when requesting Zarr as an output format(s3 URLs are returned instead to support accessing and interacting with those outputs in the cloud). For all Harmony requests, direct s3 URLs are also provided within a STAC catalog provided in the job response as we'll explore in more detail below. \n",
    "\n",
    "#### Retrieve list of output URLs\n",
    "\n",
    "The `result_urls()` method calls `wait_for_processing()` and returns a list of the processed data URLs once processing is complete. You may optionally show the progress bar as shown below."
   ]
  },
  {
   "cell_type": "code",
   "execution_count": null,
   "id": "b26d572c",
   "metadata": {},
   "outputs": [],
   "source": [
    "urls = harmony_client.result_urls(job_id, show_progress=True)\n",
    "urls"
   ]
  },
  {
   "cell_type": "markdown",
   "id": "55aac772",
   "metadata": {},
   "source": [
    "#### Download files"
   ]
  },
  {
   "cell_type": "markdown",
   "id": "1a46cae7",
   "metadata": {},
   "source": [
    "The next code block utilizes `download_all()` to download all data output file URLs. This is a non-blocking step during the download itself, but this line will block subsequent code while waiting for the job to finish processing. You can optionally specify a directory and specify whether to overwrite existing files as shown below.\n",
    "\n",
    "You may call `result()` on future objects (those that are awaiting processing) to realize them. A call to `result()` blocks until that particular future object finishes downloading. Other future objects will download in the background, in parallel. When downloading is complete, the future objects will return the file path string of the file that was just downloaded. This file path can then be fed into other libraries that may read the data files and perform other operations."
   ]
  },
  {
   "cell_type": "code",
   "execution_count": null,
   "id": "4f97b857",
   "metadata": {},
   "outputs": [],
   "source": [
    "results = harmony_client.download_all(job_id, directory='/tmp', overwrite=True)\n",
    "file_names = [f.result() for f in results]\n",
    "file_names"
   ]
  },
  {
   "cell_type": "markdown",
   "id": "d32f878f",
   "metadata": {},
   "source": [
    "With `download()`, this will download only the URL specified, in case you would like more control over individual files."
   ]
  },
  {
   "cell_type": "code",
   "execution_count": null,
   "id": "6ac86478",
   "metadata": {},
   "outputs": [],
   "source": [
    "file_name = harmony_client.download(next(urls), overwrite=True).result()\n",
    "file_name"
   ]
  },
  {
   "cell_type": "markdown",
   "id": "0fc6cfc0",
   "metadata": {},
   "source": [
    "### Visualize Downloaded Outputs\n",
    "\n",
    "The output image files can be visualized using the `Rasterio` library."
   ]
  },
  {
   "cell_type": "code",
   "execution_count": null,
   "id": "0c8eaad6",
   "metadata": {},
   "outputs": [],
   "source": [
    "for f in file_names:\n",
    "    rasterio.plot.show(rasterio.open(f))"
   ]
  },
  {
   "cell_type": "markdown",
   "id": "edfea75c",
   "metadata": {},
   "source": [
    "### Explore output STAC catalog and retrieve results from s3\n",
    "\n",
    "A [STAC](https://stacspec.org/) catalog is returned in each Harmony request result. The stac items include not only the s3 locations for each output file, but also the spatial and temporal metadata representing each subsetted output. `stac_catalog_url` will return the URL of the catalog, and can also accept an optional progress status if desired."
   ]
  },
  {
   "cell_type": "code",
   "execution_count": null,
   "id": "ef42bb5b",
   "metadata": {},
   "outputs": [],
   "source": [
    "stac_catalog_url = harmony_client.stac_catalog_url(job_id)\n",
    "stac_catalog_url"
   ]
  },
  {
   "cell_type": "markdown",
   "id": "3027a2d9",
   "metadata": {},
   "source": [
    "#### Using PySTAC:"
   ]
  },
  {
   "cell_type": "markdown",
   "id": "2d3d9fff",
   "metadata": {},
   "source": [
    "Following the directions for PySTAC (https://pystac.readthedocs.io/en/latest/quickstart.html), we can view the timestamp and s3 locations of each STAC item:"
   ]
  },
  {
   "cell_type": "code",
   "execution_count": null,
   "id": "b1342ccd",
   "metadata": {},
   "outputs": [],
   "source": [
    "from pystac import Catalog\n",
    "\n",
    "cat = Catalog.from_file(stac_catalog_url)\n",
    "\n",
    "print(cat.title)\n",
    "s3_links = []\n",
    "for item in cat.get_all_items():\n",
    "    print(item.datetime, [asset.href for asset in item.assets.values()])\n",
    "    s3_links.append([asset.href for asset in item.assets.values()])"
   ]
  },
  {
   "cell_type": "markdown",
   "id": "f4d9c649",
   "metadata": {},
   "source": [
    "#### Using intake-stac:\n",
    "\n",
    "View each item value returned:"
   ]
  },
  {
   "cell_type": "code",
   "execution_count": null,
   "id": "ef1eeb66",
   "metadata": {},
   "outputs": [],
   "source": [
    "import intake\n",
    "cat = intake.open_stac_catalog(stac_catalog_url)\n",
    "display(list(cat))"
   ]
  },
  {
   "cell_type": "markdown",
   "id": "583eca0f",
   "metadata": {},
   "source": [
    "And the metadata contents of each item:"
   ]
  },
  {
   "cell_type": "code",
   "execution_count": null,
   "id": "914e0315",
   "metadata": {},
   "outputs": [],
   "source": [
    "entries = []\n",
    "for id, entry in cat.search('type').items():\n",
    "    display(entry)\n",
    "    entries.append(entry)"
   ]
  },
  {
   "cell_type": "markdown",
   "id": "7edd3d65",
   "metadata": {},
   "source": [
    "### Cloud in-place access \n",
    "\n",
    "**Note that the remainder of this tutorial will only succeed when running this notebook within the AWS us-west-2 region.** \n",
    "\n",
    "Harmony data outputs can be accessed within the cloud using the s3 URLs and AWS credentials provided in the Harmony job response. Below are examples using both `intake-stac` or `boto3` to access the data in the cloud. "
   ]
  },
  {
   "cell_type": "markdown",
   "id": "89054073",
   "metadata": {},
   "source": [
    "#### AWS credential retrieval\n",
    "\n",
    "Using `aws_credentials` you can retrieve the credentials needed to access the Harmony s3 staging bucket and its contents."
   ]
  },
  {
   "cell_type": "code",
   "execution_count": null,
   "id": "b278020a",
   "metadata": {},
   "outputs": [],
   "source": [
    "# NOTE: if you specified destination_url you'll have to retrieve your credentials in another manner\n",
    "# https://boto3.amazonaws.com/v1/documentation/api/latest/guide/credentials.html\n",
    "creds = harmony_client.aws_credentials()\n",
    "creds"
   ]
  },
  {
   "cell_type": "markdown",
   "id": "aa00b059",
   "metadata": {},
   "source": [
    "#### Using boto3"
   ]
  },
  {
   "cell_type": "code",
   "execution_count": null,
   "id": "45f798d9",
   "metadata": {},
   "outputs": [],
   "source": [
    "#\n",
    "# NOTE: Execution of this cell will only succeed within the AWS us-west-2 region.\n",
    "#\n",
    "\n",
    "import boto3\n",
    "\n",
    "s3 = boto3.client('s3', **creds)\n",
    "for i in range(len(s3_links)):\n",
    "    uri = s3_links[i][0]\n",
    "    bucket = uri.split('/')[2]\n",
    "    obj = '/'.join(uri.split('/')[3:])\n",
    "    fn = uri.split('/')[-1]\n",
    "    with open(fn, 'wb') as f:\n",
    "        s3.download_fileobj(bucket, obj, f)"
   ]
  },
  {
   "cell_type": "markdown",
   "id": "9b86e8e1",
   "metadata": {},
   "source": [
    "#### Using intake-stac\n",
    "\n",
    "Once again, you can use `intake-stac` to directly access each output from Harmony in AWS. Viewing the file structure and plotting the image can be done in a few simple lines when working with the data in-region:"
   ]
  },
  {
   "cell_type": "code",
   "execution_count": null,
   "id": "92e969d1",
   "metadata": {
    "tags": []
   },
   "outputs": [],
   "source": [
    "#\n",
    "# NOTE: Execution of this cell will only succeed within the AWS us-west-2 region.\n",
    "#\n",
    "\n",
    "for i in range(len(list(cat))):\n",
    "    da = cat[list(cat)[i]][entries[i].describe()['name']].to_dask()\n",
    "    display(da)\n",
    "    da.plot()"
   ]
  }
 ],
 "metadata": {
  "kernelspec": {
   "display_name": "Python 3 (ipykernel)",
   "language": "python",
   "name": "python3"
  },
  "language_info": {
   "codemirror_mode": {
    "name": "ipython",
    "version": 3
   },
   "file_extension": ".py",
   "mimetype": "text/x-python",
   "name": "python",
   "nbconvert_exporter": "python",
   "pygments_lexer": "ipython3",
   "version": "3.11.9"
  }
 },
 "nbformat": 4,
 "nbformat_minor": 5
}
