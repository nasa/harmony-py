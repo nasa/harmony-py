{
 "cells": [
  {
   "cell_type": "markdown",
   "metadata": {},
   "source": [
    "## Harmony Py Library\n",
    "### Job Results STAC data"
   ]
  },
  {
   "cell_type": "code",
   "execution_count": null,
   "metadata": {},
   "outputs": [],
   "source": [
    "import sys\n",
    "import helper\n",
    "# Install the project and 'examples' dependencies\n",
    "helper.install_project_and_dependencies('..', libs=['examples'])\n",
    "\n",
    "from harmony import BBox, Client, Collection, Request, Environment"
   ]
  },
  {
   "cell_type": "markdown",
   "metadata": {},
   "source": [
    "First, let's get a job processing in Harmony."
   ]
  },
  {
   "cell_type": "code",
   "execution_count": null,
   "metadata": {},
   "outputs": [],
   "source": [
    "harmony_client = Client(env=Environment.UAT)  # assumes .netrc usage\n",
    "\n",
    "collection = Collection(id='C1234088182-EEDTEST')\n",
    "request = Request(\n",
    "    collection=collection,\n",
    "    spatial=BBox(-165, 52, -140, 77),\n",
    "    max_results=5\n",
    ")\n",
    "\n",
    "job_id = harmony_client.submit(request)\n",
    "job_id"
   ]
  },
  {
   "cell_type": "markdown",
   "metadata": {},
   "source": [
    "Harmony-py can return the STAC Catalog URL for a completed job."
   ]
  },
  {
   "cell_type": "code",
   "execution_count": null,
   "metadata": {},
   "outputs": [],
   "source": [
    "stac_catalog_url = harmony_client.stac_catalog_url(job_id, show_progress=True)"
   ]
  },
  {
   "cell_type": "markdown",
   "metadata": {},
   "source": [
    "Following the directions for PySTAC (https://pystac.readthedocs.io/en/latest/quickstart.html), we can hook our harmony-py client into STAC_IO."
   ]
  },
  {
   "cell_type": "code",
   "execution_count": null,
   "metadata": {},
   "outputs": [],
   "source": [
    "from urllib.parse import urlparse\n",
    "import requests\n",
    "from pystac import stac_io\n",
    "\n",
    "\n",
    "def requests_read_method(uri):\n",
    "    parsed = urlparse(uri)\n",
    "    if parsed.hostname.startswith('harmony.') or parsed.hostname.startswith('localhost'):\n",
    "        return harmony_client.read_text(uri)\n",
    "    else:\n",
    "        return stac_io.default_read_text_method(uri)\n",
    "\n",
    "stac_io.read_text_method = requests_read_method"
   ]
  },
  {
   "cell_type": "markdown",
   "metadata": {},
   "source": [
    "For each STAC item in the catalog list its date, when it expires, and its access url"
   ]
  },
  {
   "cell_type": "code",
   "execution_count": null,
   "metadata": {},
   "outputs": [],
   "source": [
    "from pystac import Catalog\n",
    "\n",
    "\n",
    "cat = Catalog.from_file(stac_catalog_url)\n",
    "print(cat.title)\n",
    "\n",
    "for item in cat.get_all_items():\n",
    "    print(item.datetime, item.properties.get('expires'), [asset.href for asset in item.assets.values()])"
   ]
  }
 ],
 "metadata": {
  "kernelspec": {
   "display_name": "Python 3 (ipykernel)",
   "language": "python",
   "name": "python3"
  },
  "language_info": {
   "codemirror_mode": {
    "name": "ipython",
    "version": 3
   },
   "file_extension": ".py",
   "mimetype": "text/x-python",
   "name": "python",
   "nbconvert_exporter": "python",
   "pygments_lexer": "ipython3",
   "version": "3.11.9"
  }
 },
 "nbformat": 4,
 "nbformat_minor": 4
}
