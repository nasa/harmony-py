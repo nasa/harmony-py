{
 "cells": [
  {
   "cell_type": "markdown",
   "metadata": {},
   "source": [
    "## Harmony Py Library\n",
    "### Labels Example"
   ]
  },
  {
   "cell_type": "code",
   "execution_count": null,
   "metadata": {
    "tags": []
   },
   "outputs": [],
   "source": [
    "import helper\n",
    "import json\n",
    "import sys\n",
    "sys.path.append('..')\n",
    "\n",
    "# Install harmony-py requirements.  Not necessary if you ran `pip install harmony-py` in your kernel\n",
    "helper.install_project_and_dependencies('..')\n",
    "\n",
    "from harmony import BBox, Client, Collection, HttpMethod, Request, LabelsRequest, Environment"
   ]
  },
  {
   "cell_type": "markdown",
   "metadata": {},
   "source": [
    "#### Submit a couple harmony requests"
   ]
  },
  {
   "cell_type": "code",
   "execution_count": null,
   "metadata": {
    "tags": []
   },
   "outputs": [],
   "source": [
    "harmony_client = Client(env=Environment.LOCAL)\n",
    "\n",
    "collection = Collection(id='C1234208438-POCLOUD')\n",
    "request = Request(\n",
    "    collection=collection,\n",
    "    spatial=BBox(-160, -80, 160, 80),\n",
    "    granule_id=['G1234495188-POCLOUD'],\n",
    "    variables=['bathymetry']\n",
    ")\n",
    "job_1 = harmony_client.submit(request)\n",
    "\n",
    "request = Request(\n",
    "    collection=collection,\n",
    "    concatenate=True,\n",
    "    spatial=BBox(-160, -80, 160, 80),\n",
    "    granule_id=['G1234515613-POCLOUD', 'G1234515574-POCLOUD'],\n",
    "    variables=['bathymetry'],\n",
    "    ignore_errors=True\n",
    ")\n",
    "job_2 = harmony_client.submit(request)"
   ]
  },
  {
   "cell_type": "markdown",
   "metadata": {},
   "source": [
    "#### Check labels on the job status"
   ]
  },
  {
   "cell_type": "code",
   "execution_count": null,
   "metadata": {},
   "outputs": [],
   "source": [
    "job_1_status = harmony_client.result_json(job_1)\n",
    "print(json.dumps(job_1_status, indent=2))"
   ]
  },
  {
   "cell_type": "markdown",
   "metadata": {},
   "source": [
    "#### Create labels on jobs"
   ]
  },
  {
   "cell_type": "code",
   "execution_count": null,
   "metadata": {
    "tags": []
   },
   "outputs": [],
   "source": [
    "request = LabelsRequest(\n",
    "    http_method=HttpMethod.PUT,\n",
    "    labels=['foo', 'bar'],\n",
    "    job_ids=[job_1, job_2])\n",
    "\n",
    "response = harmony_client.submit(request)\n",
    "print(json.dumps(response, indent=2))"
   ]
  },
  {
   "cell_type": "markdown",
   "metadata": {},
   "source": [
    "#### Check added labels are in the job status"
   ]
  },
  {
   "cell_type": "code",
   "execution_count": null,
   "metadata": {
    "tags": []
   },
   "outputs": [],
   "source": [
    "job_1_status = harmony_client.result_json(job_1)\n",
    "print(json.dumps(job_1_status, indent=2))"
   ]
  },
  {
   "cell_type": "markdown",
   "metadata": {},
   "source": [
    "#### Check job 2 status and labels"
   ]
  },
  {
   "cell_type": "code",
   "execution_count": null,
   "metadata": {
    "tags": []
   },
   "outputs": [],
   "source": [
    "response = harmony_client.result_json(job_2)\n",
    "print(json.dumps(response, indent=2))"
   ]
  }
 ],
 "metadata": {
  "kernelspec": {
   "display_name": "Python 3 (ipykernel)",
   "language": "python",
   "name": "python3"
  },
  "language_info": {
   "codemirror_mode": {
    "name": "ipython",
    "version": 3
   },
   "file_extension": ".py",
   "mimetype": "text/x-python",
   "name": "python",
   "nbconvert_exporter": "python",
   "pygments_lexer": "ipython3",
   "version": "3.11.9"
  }
 },
 "nbformat": 4,
 "nbformat_minor": 4
}
