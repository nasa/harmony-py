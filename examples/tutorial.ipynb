{
 "cells": [
  {
   "cell_type": "markdown",
   "id": "artificial-botswana",
   "metadata": {},
   "source": [
    "## Harmony Py Tutorial\n",
    "\n",
    "This notebook shows a basic example of a Harmony job using a Harmony test Collection to perform a combination of both spatial and temporal subsetting.\n",
    "\n",
    "First, we import a few things that will help us create a request and display images. We then import the Harmony Py classes we need to make a request."
   ]
  },
  {
   "cell_type": "code",
   "execution_count": null,
   "id": "cross-sample",
   "metadata": {
    "tags": []
   },
   "outputs": [],
   "source": [
    "import sys; sys.path.append('..')\n",
    "!{sys.executable} -m pip install -q -r ../requirements/examples.txt\n",
    "\n",
    "# Install harmony-py requirements.  Not necessary if you ran `pip install harmony-py` in your kernel\n",
    "!{sys.executable} -m pip install -q -r ../requirements/core.txt\n",
    "\n",
    "import datetime as dt\n",
    "from IPython.display import display, JSON\n",
    "import rasterio\n",
    "import rasterio.plot\n",
    "import netCDF4 as nc4\n",
    "from matplotlib import pyplot as plt\n",
    "import numpy as np\n",
    "import helper\n",
    "\n",
    "from harmony import BBox, WKT, Client, Collection, Request, Environment"
   ]
  },
  {
   "cell_type": "markdown",
   "id": "still-casting",
   "metadata": {},
   "source": [
    "Now we create a Harmony Client object, letting it pick up our credentials from a `.netrc` file."
   ]
  },
  {
   "cell_type": "code",
   "execution_count": null,
   "id": "cellular-differential",
   "metadata": {
    "tags": []
   },
   "outputs": [],
   "source": [
    "harmony_client = Client(env=Environment.UAT)"
   ]
  },
  {
   "cell_type": "markdown",
   "id": "mental-marble",
   "metadata": {},
   "source": [
    "Next, let's create a Collection object with the [CMR](https://cmr.earthdata.nasa.gov/) collection id for the CMR collection we'd like to look at.\n",
    "\n",
    "We then create a Request which specifies that collection, a `spatial` `BBox` describing the bounding box for the area we're interested in (we'll look at the ``BBox`` in other tutorials). In this case we're interested in looking at Alaska (and who wouldn't be?). We also include a date/time range to narrow down the data.\n",
    "\n",
    "Because this data includes a lot of different variables, we limit it by passing in a list of `variable`s we're interested in; in this test collection we'll look at the blue variable. We include a `max_results` parameter to limit the results to the first 10 images just to get a sample of what things look like.\n",
    "\n",
    "Next, we include a coordinate reference system (CRS) indicating we'd like to reproject the data into the [Arctic Polar Stereographic projection](https://epsg.io/3995). We also specify that we'd like the output to be in the GeoTIFF format with a resolution of 512x512 pixels.\n",
    "\n",
    "Finally we check if the request we've created is valid."
   ]
  },
  {
   "cell_type": "code",
   "execution_count": null,
   "id": "affecting-colors",
   "metadata": {},
   "outputs": [],
   "source": [
    "collection = Collection(id='C1234088182-EEDTEST')\n",
    "\n",
    "request = Request(\n",
    "    collection=collection,\n",
    "    spatial=BBox(-165, 52, -140, 77),\n",
    "    temporal={\n",
    "        'start': dt.datetime(2010, 1, 1),\n",
    "        'stop': dt.datetime(2020, 12, 30)\n",
    "    },\n",
    "    variables=['blue_var'],\n",
    "    max_results=10,\n",
    "    crs='EPSG:3995',\n",
    "    format='image/tiff',\n",
    "    height=512,\n",
    "    width=512\n",
    ")\n",
    "\n",
    "request.is_valid()"
   ]
  },
  {
   "cell_type": "markdown",
   "id": "defensive-defeat",
   "metadata": {},
   "source": [
    "Now that we have a request, we can submit it to Harmony using the Harmony Client object we created earlier. We'll get back an id for our request which we can use to find the job's status and get the results."
   ]
  },
  {
   "cell_type": "code",
   "execution_count": null,
   "id": "heard-moldova",
   "metadata": {},
   "outputs": [],
   "source": [
    "job_id = harmony_client.submit(request)"
   ]
  },
  {
   "cell_type": "markdown",
   "id": "restricted-context",
   "metadata": {},
   "source": [
    "Let's see how it's going. This will show the percentage complete in the `progress` field. (We use the JSON helper function to show the results in a nicer-to-look-at format)."
   ]
  },
  {
   "cell_type": "code",
   "execution_count": null,
   "id": "smooth-soviet",
   "metadata": {},
   "outputs": [],
   "source": [
    "JSON(harmony_client.status(job_id))"
   ]
  },
  {
   "cell_type": "markdown",
   "id": "improved-cowboy",
   "metadata": {},
   "source": [
    "Let's download the results to our system temp directory, overwriting files if they already exist. This returns us a list of `Future` objects. Each of these \"stand in\" for a file in our set of results. We can ask a `Future` for its result and when it's available, it will return the filename to us."
   ]
  },
  {
   "cell_type": "code",
   "execution_count": null,
   "id": "living-associate",
   "metadata": {},
   "outputs": [],
   "source": [
    "results = harmony_client.download_all(job_id, directory='/tmp', overwrite=True)"
   ]
  },
  {
   "cell_type": "markdown",
   "id": "wanted-detective",
   "metadata": {},
   "source": [
    "Allright, now let's show some colorful Alaska images! Here we iterate over the results, asking each `Future` for its result, and then using `rasterio` to open the file and display the image."
   ]
  },
  {
   "cell_type": "code",
   "execution_count": null,
   "id": "innovative-cambodia",
   "metadata": {},
   "outputs": [],
   "source": [
    "for r in results:\n",
    "    rasterio.plot.show(rasterio.open(r.result()))"
   ]
  },
  {
   "cell_type": "markdown",
   "id": "f97fa92f",
   "metadata": {},
   "source": [
    "We can also get a URL corresponding to our request that we can use in a browser. **Note:** This will not work if the request includes a shapefile."
   ]
  },
  {
   "cell_type": "code",
   "execution_count": null,
   "id": "f03e22a8",
   "metadata": {},
   "outputs": [],
   "source": [
    "url = harmony_client.request_as_url(request)\n",
    "print(url)"
   ]
  },
  {
   "cell_type": "markdown",
   "id": "45a14473",
   "metadata": {},
   "source": [
    "Let's build another request. This time, we'll request a specific granule and grid using the UMM grid name from the CMR. You can find grids in the CMR at https://cmr.uat.earthdata.nasa.gov/search/grids.umm_json. Include a query parameter `?grid=LambertExample` to list detailed information about a specific grid."
   ]
  },
  {
   "cell_type": "code",
   "execution_count": null,
   "id": "6bead4b7",
   "metadata": {},
   "outputs": [],
   "source": [
    "collection = Collection(id='C1233860183-EEDTEST')\n",
    "\n",
    "request = Request(\n",
    "    collection=collection,\n",
    "    granule_id='G1233860486-EEDTEST',\n",
    "    interpolation='near',\n",
    "    grid='LambertExample'\n",
    ")\n",
    "\n",
    "request.is_valid()"
   ]
  },
  {
   "cell_type": "markdown",
   "id": "5cb4496b",
   "metadata": {},
   "source": [
    "Submit the job and check on the status."
   ]
  },
  {
   "cell_type": "code",
   "execution_count": null,
   "id": "f3f030a6",
   "metadata": {},
   "outputs": [],
   "source": [
    "job_id = harmony_client.submit(request)\n",
    "JSON(harmony_client.status(job_id))"
   ]
  },
  {
   "cell_type": "markdown",
   "id": "d76b6104",
   "metadata": {},
   "source": [
    "Download and  plot the file using pyplot and numpy."
   ]
  },
  {
   "cell_type": "code",
   "execution_count": null,
   "id": "b182ee17",
   "metadata": {
    "tags": []
   },
   "outputs": [],
   "source": [
    "results = harmony_client.download_all(job_id, directory='/tmp', overwrite=True)\n",
    "nc4_file=nc4.Dataset(list(results)[0].result())\n",
    "arrays = []\n",
    "for var in ['red_var', 'green_var', 'blue_var', 'alpha_var']:\n",
    "    ds = nc4_file.variables[var][0,:]\n",
    "    arrays.append(ds)\n",
    "plt.imshow(np.dstack(arrays))"
   ]
  },
  {
   "cell_type": "markdown",
   "id": "b9e8d8d7-03c2-4fb3-b10e-6dee510676e2",
   "metadata": {},
   "source": [
    "For request that completes directly without creating a job, the submit call returns the harmony JSON response including the direct download links."
   ]
  },
  {
   "cell_type": "code",
   "execution_count": null,
   "id": "9f498daa-7522-45e2-b726-cd9d18a18f61",
   "metadata": {
    "tags": []
   },
   "outputs": [],
   "source": [
    "collection = Collection(id='C1233800302-EEDTEST')\n",
    "\n",
    "request = Request(\n",
    "    collection=collection,\n",
    "    spatial=BBox(-140, 20, -50, 60),\n",
    "    crs='EPSG:31975',\n",
    "    format='image/jpg',\n",
    "    max_results=1,\n",
    "    variables=['blue_var']\n",
    ")\n",
    "response = harmony_client.submit(request)\n",
    "response"
   ]
  },
  {
   "cell_type": "markdown",
   "id": "bb0f4124-488a-477c-8cf4-b72b46d2b0fa",
   "metadata": {},
   "source": [
    "Download the result and show the file can be opened with NetCDF library."
   ]
  },
  {
   "cell_type": "code",
   "execution_count": null,
   "id": "77aee47d-3679-49db-ac0e-05a7d9f15bff",
   "metadata": {
    "tags": []
   },
   "outputs": [],
   "source": [
    "results = harmony_client.download_all(response, directory='/tmp', overwrite=True)\n",
    "file_names = [f.result() for f in results]\n",
    "for filename in file_names:\n",
    "    print(nc4.Dataset(filename))"
   ]
  },
  {
   "cell_type": "markdown",
   "id": "a22a34f6-36a5-4554-b248-1b3e599dc4c2",
   "metadata": {},
   "source": [
    "Example of submitting a request with WKT spatial. The supported WKT geometry types are listed at: https://harmony-py.readthedocs.io/en/latest/api.html#harmony.harmony.WKT"
   ]
  },
  {
   "cell_type": "code",
   "execution_count": null,
   "id": "f7a3308e-e655-4d78-97a5-87e81aab508d",
   "metadata": {},
   "outputs": [],
   "source": [
    "collection = Collection(id='C1233800302-EEDTEST')\n",
    "\n",
    "request = Request(\n",
    "    collection=collection,\n",
    "    spatial=WKT('POLYGON((-140 20, -50 20, -50 60, -140 60, -140 20))'),\n",
    "    granule_id=['C1233800302-EEDTEST'],\n",
    "    max_results=1,\n",
    "    temporal={\n",
    "        'start': dt.datetime(1980, 1, 1),\n",
    "        'stop': dt.datetime(2020, 12, 30)\n",
    "    },\n",
    "    variables=['blue_var'],\n",
    "    crs='EPSG:31975',\n",
    "    format='image/png'\n",
    ")\n",
    "\n",
    "request.is_valid()"
   ]
  },
  {
   "cell_type": "code",
   "execution_count": null,
   "id": "6a8909d4-133a-4f51-bec4-c5698971a96a",
   "metadata": {},
   "outputs": [],
   "source": [
    "response = harmony_client.submit(request)\n",
    "response"
   ]
  },
  {
   "cell_type": "markdown",
   "id": "74d54eb6-54b8-4b08-a469-326770d7910f",
   "metadata": {},
   "source": [
    "Show the result:"
   ]
  },
  {
   "cell_type": "code",
   "execution_count": null,
   "id": "6d920033-4ba2-493c-ae15-3cc504a0fca5",
   "metadata": {},
   "outputs": [],
   "source": [
    "for filename in [f.result() for f in harmony_client.download_all(response)]:\n",
    "    if filename.endswith(\"png\"):\n",
    "        helper.show_result(filename)"
   ]
  },
  {
   "cell_type": "code",
   "execution_count": null,
   "id": "09f132f3-6117-4ca0-b2b6-ae41c6b48981",
   "metadata": {},
   "outputs": [],
   "source": []
  }
 ],
 "metadata": {
  "kernelspec": {
   "display_name": "Python 3 (ipykernel)",
   "language": "python",
   "name": "python3"
  },
  "language_info": {
   "codemirror_mode": {
    "name": "ipython",
    "version": 3
   },
   "file_extension": ".py",
   "mimetype": "text/x-python",
   "name": "python",
   "nbconvert_exporter": "python",
   "pygments_lexer": "ipython3",
   "version": "3.11.9"
  },
  "vscode": {
   "interpreter": {
    "hash": "bc748110a6ec18982109b2289f9c506ebfe86428d3e48ddecc746f3969e698e0"
   }
  }
 },
 "nbformat": 4,
 "nbformat_minor": 5
}
