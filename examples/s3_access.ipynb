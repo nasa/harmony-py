{
 "cells": [
  {
   "cell_type": "markdown",
   "metadata": {},
   "source": [
    "## Harmony Py Library\n",
    "### Getting data using AWS credentials, S3 URLs, and downloading with AWS boto3"
   ]
  },
  {
   "cell_type": "code",
   "execution_count": null,
   "metadata": {},
   "outputs": [],
   "source": [
    "import datetime as dt\n",
    "import sys\n",
    "import helper\n",
    "# Install the project and 'examples' dependencies\n",
    "helper.install_project_and_dependencies('..', libs=['examples'])\n",
    "\n",
    "from harmony import BBox, Client, Collection, LinkType, Request, s3_components, Environment"
   ]
  },
  {
   "cell_type": "code",
   "execution_count": null,
   "metadata": {},
   "outputs": [],
   "source": [
    "request = Request(\n",
    "    collection=Collection(id='C1234088182-EEDTEST'),\n",
    "    spatial=BBox(-165, 52, -140, 77),\n",
    "    temporal={\n",
    "        'start': dt.datetime(2010, 1, 1),\n",
    "        'stop': dt.datetime(2020, 12, 30)\n",
    "    },\n",
    "    variables=['blue_var'],\n",
    "    max_results=2,\n",
    "    crs='EPSG:3995',\n",
    "    format='image/tiff',\n",
    "    height=512,\n",
    "    width=512,\n",
    "    # If desired, deliver results to a custom destination bucket. Note the bucket must reside in AWS us-west-2 region.\n",
    "    # destination_url='s3://my-bucket'\n",
    ")\n",
    "\n",
    "request.is_valid()"
   ]
  },
  {
   "cell_type": "markdown",
   "metadata": {},
   "source": [
    "Cloud access credentials can be retrieved from an instantiated Client."
   ]
  },
  {
   "cell_type": "code",
   "execution_count": null,
   "metadata": {},
   "outputs": [],
   "source": [
    "harmony_client = Client(env=Environment.UAT)  # assumes .netrc usage\n",
    "job_id = harmony_client.submit(request)"
   ]
  },
  {
   "cell_type": "markdown",
   "metadata": {},
   "source": [
    "Now let's get the data URLs from Harmony, but request S3 URLs instead of the default HTTPS. We also request temporary AWS credentials that we can use to authenticate and download the data."
   ]
  },
  {
   "cell_type": "code",
   "execution_count": null,
   "metadata": {},
   "outputs": [],
   "source": [
    "results = harmony_client.result_urls(job_id, link_type=LinkType.s3)\n",
    "print(results)\n",
    "# NOTE: if you specified destination_url you'll have to retrieve your credentials in another manner\n",
    "# https://boto3.amazonaws.com/v1/documentation/api/latest/guide/credentials.html\n",
    "creds = harmony_client.aws_credentials()"
   ]
  },
  {
   "cell_type": "markdown",
   "metadata": {},
   "source": [
    "Now we'll use the AWS Python library boto3 to download our results from the S3 bucket, providing boto3 with our temporary credentials that Harmony supplied:"
   ]
  },
  {
   "cell_type": "code",
   "execution_count": null,
   "metadata": {},
   "outputs": [],
   "source": [
    "#\n",
    "# NOTE: Execution of this cell will only succeed within the AWS us-west-2 region.\n",
    "#\n",
    "\n",
    "import boto3\n",
    "\n",
    "s3 = boto3.client('s3', **creds)\n",
    "for url in results:\n",
    "    bucket, obj, fn = s3_components(url)\n",
    "    with open(fn, 'wb') as f:\n",
    "        s3.download_fileobj(bucket, obj, f)"
   ]
  }
 ],
 "metadata": {
  "kernelspec": {
   "display_name": "Python 3 (ipykernel)",
   "language": "python",
   "name": "python3"
  },
  "language_info": {
   "codemirror_mode": {
    "name": "ipython",
    "version": 3
   },
   "file_extension": ".py",
   "mimetype": "text/x-python",
   "name": "python",
   "nbconvert_exporter": "python",
   "pygments_lexer": "ipython3",
   "version": "3.11.9"
  },
  "vscode": {
   "interpreter": {
    "hash": "bc748110a6ec18982109b2289f9c506ebfe86428d3e48ddecc746f3969e698e0"
   }
  }
 },
 "nbformat": 4,
 "nbformat_minor": 4
}
