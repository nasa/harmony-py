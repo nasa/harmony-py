{
 "cells": [
  {
   "cell_type": "markdown",
   "metadata": {},
   "source": [
    "## Harmony Py Library\n",
    "### Job Results Iterator Example"
   ]
  },
  {
   "cell_type": "code",
   "execution_count": null,
   "metadata": {},
   "outputs": [],
   "source": [
    "import sys\n",
    "import helper\n",
    "helper.install_project_and_dependencies('..')\n",
    "\n",
    "import concurrent.futures\n",
    "import os\n",
    "from harmony import BBox, Client, Collection, Request, Environment\n"
   ]
  },
  {
   "cell_type": "code",
   "execution_count": null,
   "metadata": {},
   "outputs": [],
   "source": [
    "harmony_client = Client(env=Environment.UAT)  # assumes .netrc usage\n",
    "\n",
    "collection = Collection(id='C1234088182-EEDTEST')\n",
    "request = Request(\n",
    "    collection=collection,\n",
    "    spatial=BBox(-165, 52, -140, 77)\n",
    ")\n"
   ]
  },
  {
   "cell_type": "code",
   "execution_count": null,
   "metadata": {},
   "outputs": [],
   "source": [
    "# submit an async request for processing and return the job_id\n",
    "job_id = harmony_client.submit(request)\n",
    "job_id\n"
   ]
  },
  {
   "cell_type": "code",
   "execution_count": null,
   "metadata": {},
   "outputs": [],
   "source": [
    "# We can iterate over the results which will cause them to download in parallel while the job is running\n",
    "# the first argument to `iterator()` is the ID of the job we want\n",
    "# the second argument is the path where we want to download the files\n",
    "# the third argument is whether or not we want to overwrite files - this defaults to False which\n",
    "# speeds up processing by not re-downloading files that have already been downloaded\n",
    "iter = harmony_client.iterator(job_id, '/tmp', True)\n",
    "# use verbose output so we can see the file names as they are downloaded\n",
    "os.environ['VERBOSE'] = 'true'\n",
    "# grab all the futures that are downloading the files\n",
    "futures = list(map(lambda x: x['path'], iter))\n",
    "# wait for all the futures to complete\n",
    "(done_futures, _) = concurrent.futures.wait(futures)"
   ]
  }
 ],
 "metadata": {
  "kernelspec": {
   "display_name": "Python 3 (ipykernel)",
   "language": "python",
   "name": "python3"
  },
  "language_info": {
   "codemirror_mode": {
    "name": "ipython",
    "version": 3
   },
   "file_extension": ".py",
   "mimetype": "text/x-python",
   "name": "python",
   "nbconvert_exporter": "python",
   "pygments_lexer": "ipython3",
   "version": "3.11.9"
  },
  "vscode": {
   "interpreter": {
    "hash": "691e87652ceac3c5099314ecb0538ffe7a8fdf4c87c30f290964dc685c42c47b"
   }
  }
 },
 "nbformat": 4,
 "nbformat_minor": 4
}
