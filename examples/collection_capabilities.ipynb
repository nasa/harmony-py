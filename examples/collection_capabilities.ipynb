{
 "cells": [
  {
   "cell_type": "markdown",
   "metadata": {},
   "source": [
    "## Harmony Py Library\n",
    "### Collection Capabilities Example"
   ]
  },
  {
   "cell_type": "code",
   "execution_count": null,
   "metadata": {
    "tags": []
   },
   "outputs": [],
   "source": [
    "import helper\n",
    "import json\n",
    "import sys\n",
    "sys.path.append('..')\n",
    "\n",
    "# Install harmony-py requirements.  Not necessary if you ran `pip install harmony-py` in your kernel  \n",
    "helper.install_project_and_dependencies('..')\n",
    "\n",
    "from harmony import BBox, Client, Collection, Request, CapabilitiesRequest, Environment"
   ]
  },
  {
   "cell_type": "markdown",
   "metadata": {},
   "source": [
    "#### Get collection capabilities"
   ]
  },
  {
   "cell_type": "code",
   "execution_count": null,
   "metadata": {
    "tags": []
   },
   "outputs": [],
   "source": [
    "harmony_client = Client(env=Environment.UAT)\n",
    "\n",
    "capabilities_request = CapabilitiesRequest(collection_id='C1234088182-EEDTEST')\n",
    "\n",
    "capabilities = harmony_client.submit(capabilities_request)\n",
    "print(json.dumps(capabilities, indent=2))"
   ]
  },
  {
   "cell_type": "markdown",
   "metadata": {},
   "source": [
    "#### Get collection capabilities for a specific api version"
   ]
  },
  {
   "cell_type": "code",
   "execution_count": null,
   "metadata": {
    "tags": []
   },
   "outputs": [],
   "source": [
    "harmony_client = Client(env=Environment.UAT)\n",
    "\n",
    "capabilities_request = CapabilitiesRequest(\n",
    "    collection_id='C1234088182-EEDTEST',\n",
    "    capabilities_version='2'\n",
    ")\n",
    "\n",
    "capabilities = harmony_client.submit(capabilities_request)\n",
    "print(json.dumps(capabilities, indent=2))"
   ]
  },
  {
   "cell_type": "markdown",
   "metadata": {},
   "source": [
    "#### Get collection capabilities with collection short name"
   ]
  },
  {
   "cell_type": "code",
   "execution_count": null,
   "metadata": {
    "tags": []
   },
   "outputs": [],
   "source": [
    "harmony_client = Client(env=Environment.UAT)\n",
    "\n",
    "capabilities_request = CapabilitiesRequest(short_name='harmony_example')\n",
    "\n",
    "capabilities = harmony_client.submit(capabilities_request)\n",
    "print(json.dumps(capabilities, indent=2))"
   ]
  },
  {
   "cell_type": "markdown",
   "metadata": {},
   "source": [
    "#### From the returned capabilities, we can see the transfromation supported (variable subsetting, bounding box subsetting, shapefile subsetting, concatenation and reprojection, etc.) and the supported services and variables. \n",
    "\n",
    "#### Based on the returned capabilites info, we can submit a variable subsetting request (the granule_id is added to make the request small).\n"
   ]
  },
  {
   "cell_type": "code",
   "execution_count": null,
   "metadata": {
    "tags": []
   },
   "outputs": [],
   "source": [
    "collection = Collection(id='C1234088182-EEDTEST')\n",
    "\n",
    "request = Request(\n",
    "    collection=collection,\n",
    "    spatial=BBox(-140, 20, -50, 60),\n",
    "    granule_id=['G1234088196-EEDTEST'],\n",
    "    crs='EPSG:3995',\n",
    "    format='image/png',\n",
    "    height=400,\n",
    "    width=900,\n",
    "    variables=['red_var', 'green_var', 'blue_var']\n",
    ")\n",
    "job_id = harmony_client.submit(request)"
   ]
  },
  {
   "cell_type": "markdown",
   "metadata": {},
   "source": [
    "#### Download and show the png file in result"
   ]
  },
  {
   "cell_type": "code",
   "execution_count": null,
   "metadata": {
    "tags": []
   },
   "outputs": [],
   "source": [
    "for filename in [f.result() for f in harmony_client.download_all(job_id)]:\n",
    "    if filename.endswith(\"png\"):\n",
    "        helper.show_result(filename)"
   ]
  }
 ],
 "metadata": {
  "kernelspec": {
   "display_name": "Python 3 (ipykernel)",
   "language": "python",
   "name": "python3"
  },
  "language_info": {
   "codemirror_mode": {
    "name": "ipython",
    "version": 3
   },
   "file_extension": ".py",
   "mimetype": "text/x-python",
   "name": "python",
   "nbconvert_exporter": "python",
   "pygments_lexer": "ipython3",
   "version": "3.11.9"
  }
 },
 "nbformat": 4,
 "nbformat_minor": 4
}
