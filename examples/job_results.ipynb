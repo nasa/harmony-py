{
 "cells": [
  {
   "cell_type": "markdown",
   "metadata": {},
   "source": [
    "## Harmony Py Library\n",
    "### Job Results Example"
   ]
  },
  {
   "cell_type": "code",
   "execution_count": null,
   "metadata": {},
   "outputs": [],
   "source": [
    "import sys\n",
    "import helper\n",
    "helper.install_project_and_dependencies('..')\n",
    "\n",
    "from harmony import BBox, Client, Collection, Request, Environment\n"
   ]
  },
  {
   "cell_type": "code",
   "execution_count": null,
   "metadata": {},
   "outputs": [],
   "source": [
    "harmony_client = Client(env=Environment.UAT)  # assumes .netrc usage\n",
    "\n",
    "collection = Collection(id='C1234088182-EEDTEST')\n",
    "request = Request(\n",
    "    collection=collection,\n",
    "    spatial=BBox(-165, 52, -140, 77)\n",
    ")\n"
   ]
  },
  {
   "cell_type": "code",
   "execution_count": null,
   "metadata": {},
   "outputs": [],
   "source": [
    "# submit an async request for processing and return the job_id\n",
    "job_id = harmony_client.submit(request)\n",
    "job_id\n"
   ]
  },
  {
   "cell_type": "code",
   "execution_count": null,
   "metadata": {},
   "outputs": [],
   "source": [
    "# We can check on the progress of a processing job with 'status()'.\n",
    "# This method blocks while communicating with the server but returns quickly.\n",
    "harmony_client.status(job_id)"
   ]
  },
  {
   "cell_type": "code",
   "execution_count": null,
   "metadata": {},
   "outputs": [],
   "source": [
    "# 'wait_for_processing()'\n",
    "# Optionally shows progress bar.\n",
    "# Blocking.\n",
    "harmony_client.wait_for_processing(job_id, show_progress=True)"
   ]
  },
  {
   "cell_type": "code",
   "execution_count": null,
   "metadata": {},
   "outputs": [],
   "source": [
    "# 'result_json()' calls 'wait_for_processing()' and returns the complete job json once processing is complete.\n",
    "# Optionally shows progress bar.\n",
    "# Blocking.\n",
    "data = harmony_client.result_json(job_id)\n"
   ]
  },
  {
   "cell_type": "code",
   "execution_count": null,
   "metadata": {},
   "outputs": [],
   "source": [
    "# 'result_urls()' calls 'wait_for_processing()' and returns the job's data urls once processing is complete.\n",
    "# Optionally shows progress bar.\n",
    "# Blocking. Returns a generator to support returning many pages of results.\n",
    "urls = harmony_client.result_urls(job_id)"
   ]
  },
  {
   "cell_type": "code",
   "execution_count": null,
   "metadata": {},
   "outputs": [],
   "source": [
    "# 'download_all()' downloads all data urls and returns immediately with a list of concurrent.futures.\n",
    "# Optionally shows progress bar for processing only.\n",
    "# Non-blocking during download but blocking while waitinig for job processing to finish.\n",
    "# Call 'result()' on future objects to realize them. A call to 'result()' blocks until that particular future finishes downloading. Other futures will download in the background, in parallel, up to the number of workers assigned to the thread pool (thread pool not publicly available).\n",
    "# Downloading on any unfinished futures can be cancelled early.\n",
    "# When downloading is complete the futures will return the file path string of the file that was just downloaded. This file path can then be fed into other libraries that may read the data files and perform other operations.\n",
    "futures = harmony_client.download_all(job_id)\n",
    "file_names = [f.result() for f in futures]"
   ]
  },
  {
   "cell_type": "code",
   "execution_count": null,
   "metadata": {},
   "outputs": [],
   "source": [
    "# 'download()' will download only the url specified, in case a person would like more control over individual files.\n",
    "# Returns a future containing the file path string of the file downloaded.\n",
    "# Blocking upon calling result()\n",
    "file_name = harmony_client.download(next(urls), overwrite=True).result()\n"
   ]
  }
 ],
 "metadata": {
  "kernelspec": {
   "display_name": "Python 3 (ipykernel)",
   "language": "python",
   "name": "python3"
  },
  "language_info": {
   "codemirror_mode": {
    "name": "ipython",
    "version": 3
   },
   "file_extension": ".py",
   "mimetype": "text/x-python",
   "name": "python",
   "nbconvert_exporter": "python",
   "pygments_lexer": "ipython3",
   "version": "3.11.9"
  }
 },
 "nbformat": 4,
 "nbformat_minor": 4
}
