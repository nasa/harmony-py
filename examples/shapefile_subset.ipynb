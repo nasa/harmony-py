{
 "cells": [
  {
   "cell_type": "markdown",
   "metadata": {},
   "source": [
    "## Harmony Py Library\n",
    "### Shapefile Subsetting Example"
   ]
  },
  {
   "cell_type": "markdown",
   "metadata": {},
   "source": [
    "Set up a harmony client pointing to UAT"
   ]
  },
  {
   "cell_type": "code",
   "execution_count": null,
   "metadata": {},
   "outputs": [],
   "source": [
    "import sys\n",
    "import helper\n",
    "# Install the project and 'examples' dependencies\n",
    "helper.install_project_and_dependencies('..', libs=['examples'])\n",
    "\n",
    "import datetime as dt\n",
    "from harmony import BBox, Client, Collection, Request\n",
    "from harmony.config import Environment\n",
    "\n",
    "harmony_client = Client()"
   ]
  },
  {
   "cell_type": "markdown",
   "metadata": {},
   "source": [
    "Perform a shapefile subsetting request on a supported collection by passing the path to a GeoJSON file (*.json or *.geojson), an ESRI Shapefile (*.zip or *.shz), or a kml file (*.kml) as the \"shape\" parameter"
   ]
  },
  {
   "cell_type": "markdown",
   "metadata": {},
   "source": [
    "The example utilized in this tutorial demonstrates a shapefile subset of the Big Island of Hawaii on February 24, 2020. A bounding box subset over the Mauna Kea and Mauna Loa volcanoes is also commented out below to show a similar subsetting option. The SENTINEL-1_INTERFEROGRAMS dataset, distributed by the ASF DAAC, is a prototype Level 2 NISAR-Format product. See https://asf.alaska.edu/data-sets/derived-data-sets/sentinel-1-interferograms/ for more information. \n",
    "\n",
    "This request specifies a subset of the unwrappedPhase variable, in TIFF format, with a maximum file result capped at 2 for demonstration purposes. \n",
    "\n",
    "#### ___Note that a Sentinel-3 End-User License Agreement (EULA) is required to access these data.___\n",
    "#### ___Please go to https://grfn.asf.alaska.edu/door/download/S1-GUNW-D-R-021-tops-20201029_20191029-033636-28753N_27426N-PP-2dde-v2_0_3.nc  to initiate a file download, which will first prompt you to accept the required EULA if you have not already done so. If you do not accept this EULA, you will receive an error when submitting your Harmony request.___"
   ]
  },
  {
   "cell_type": "code",
   "execution_count": null,
   "metadata": {},
   "outputs": [],
   "source": [
    "shapefile_path = 'Big_Island_0005.zip' \n",
    "\n",
    "request = Request(\n",
    "    collection=Collection(id='SENTINEL-1_INTERFEROGRAMS'),\n",
    "    #spatial=BBox(-155.75, 19.26, -155.3, 19.94), # bounding box example that can be used as an alternative to shapefile input\n",
    "    shape=shapefile_path,\n",
    "    temporal={\n",
    "        'start': dt.datetime(2020, 2, 24),\n",
    "        'stop': dt.datetime(2020, 2, 25),\n",
    "    },\n",
    "    variables=['science/grids/data/unwrappedPhase'],\n",
    "    format='image/tiff',\n",
    "    max_results=2,\n",
    ")"
   ]
  },
  {
   "cell_type": "markdown",
   "metadata": {},
   "source": [
    "Wait for processing and then view the output"
   ]
  },
  {
   "cell_type": "code",
   "execution_count": null,
   "metadata": {},
   "outputs": [],
   "source": [
    "job_id = harmony_client.submit(request)\n",
    "\n",
    "print(f'jobID = {job_id}')\n",
    "harmony_client.wait_for_processing(job_id, show_progress=True)"
   ]
  },
  {
   "cell_type": "code",
   "execution_count": null,
   "metadata": {},
   "outputs": [],
   "source": [
    "for filename in [f.result() for f in harmony_client.download_all(job_id)]:\n",
    "    helper.show_result(filename)"
   ]
  }
 ],
 "metadata": {
  "kernelspec": {
   "display_name": "Python 3 (ipykernel)",
   "language": "python",
   "name": "python3"
  },
  "language_info": {
   "codemirror_mode": {
    "name": "ipython",
    "version": 3
   },
   "file_extension": ".py",
   "mimetype": "text/x-python",
   "name": "python",
   "nbconvert_exporter": "python",
   "pygments_lexer": "ipython3",
   "version": "3.11.9"
  }
 },
 "nbformat": 4,
 "nbformat_minor": 4
}
