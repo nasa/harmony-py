{
 "cells": [
  {
   "cell_type": "markdown",
   "metadata": {},
   "source": [
    "## Harmony Py Library\n",
    "### Job Status Example"
   ]
  },
  {
   "cell_type": "code",
   "execution_count": null,
   "metadata": {
    "tags": []
   },
   "outputs": [],
   "source": [
    "import datetime as dt\n",
    "import sys\n",
    "import helper\n",
    "helper.install_project_and_dependencies('..')\n",
    "\n",
    "from harmony import BBox, Client, Collection, Request, Environment"
   ]
  },
  {
   "cell_type": "markdown",
   "metadata": {},
   "source": [
    "### Successful Job Status Example"
   ]
  },
  {
   "cell_type": "code",
   "execution_count": null,
   "metadata": {
    "tags": []
   },
   "outputs": [],
   "source": [
    "harmony_client = Client(env=Environment.UAT)  # assumes .netrc usage\n",
    "\n",
    "collection = Collection(id='C1234088182-EEDTEST')\n",
    "request = Request(\n",
    "    collection=collection,\n",
    "    spatial=BBox(-165, 52, -140, 77)\n",
    ")"
   ]
  },
  {
   "cell_type": "code",
   "execution_count": null,
   "metadata": {
    "tags": []
   },
   "outputs": [],
   "source": [
    "success_job_id = harmony_client.submit(request)"
   ]
  },
  {
   "cell_type": "code",
   "execution_count": null,
   "metadata": {
    "tags": []
   },
   "outputs": [],
   "source": [
    "harmony_client.status(success_job_id)"
   ]
  },
  {
   "cell_type": "markdown",
   "metadata": {},
   "source": [
    "### ignore_errors Example\n",
    "\n",
    "#### Submit a request with partial failure with ignore_errors false, the job status will be 'failed'"
   ]
  },
  {
   "cell_type": "code",
   "execution_count": null,
   "metadata": {
    "tags": []
   },
   "outputs": [],
   "source": [
    "harmony_client = Client(env=Environment.UAT)  # assumes .netrc usage\n",
    "\n",
    "collection = Collection(id='C1256476536-NSIDC_CUAT')\n",
    "request = Request(\n",
    "    collection=collection,\n",
    "    spatial=BBox(50.227106, -13.003536, 54.544869, -12.374467),\n",
    "    temporal={\n",
    "        'start': dt.datetime(2020, 1, 4),\n",
    "        'stop': dt.datetime(2020, 1, 5),\n",
    "    },\n",
    "    variables=['all'],\n",
    "    ignore_errors=False\n",
    ")\n",
    "fail_job_id = harmony_client.submit(request)"
   ]
  },
  {
   "cell_type": "markdown",
   "metadata": {
    "tags": []
   },
   "source": [
    "The request is failed as a whole. The request status is 'Failed' and there is no result url generated."
   ]
  },
  {
   "cell_type": "code",
   "execution_count": null,
   "metadata": {
    "tags": []
   },
   "outputs": [],
   "source": [
    "urls = harmony_client.result_urls(fail_job_id, show_progress=True)\n",
    "try: \n",
    "    next(urls)\n",
    "except Exception as e:\n",
    "    print(e)"
   ]
  },
  {
   "cell_type": "code",
   "execution_count": null,
   "metadata": {
    "tags": []
   },
   "outputs": [],
   "source": [
    "harmony_client.status(fail_job_id)"
   ]
  },
  {
   "cell_type": "markdown",
   "metadata": {},
   "source": [
    "#### Submit a request with partial failure without ignore_errors (default to true), the job status will be 'complete_with_errors'"
   ]
  },
  {
   "cell_type": "code",
   "execution_count": null,
   "metadata": {
    "tags": []
   },
   "outputs": [],
   "source": [
    "harmony_client = Client(env=Environment.UAT)  # assumes .netrc usage\n",
    "\n",
    "collection = Collection(id='C1256476536-NSIDC_CUAT')\n",
    "request = Request(\n",
    "    collection=collection,\n",
    "    spatial=BBox(50.227106, -13.003536, 54.544869, -12.374467),\n",
    "    temporal={\n",
    "        'start': dt.datetime(2020, 1, 4),\n",
    "        'stop': dt.datetime(2020, 1, 5),\n",
    "    },\n",
    "    variables=['all']\n",
    ")\n",
    "ignore_errors_job_id = harmony_client.submit(request)"
   ]
  },
  {
   "cell_type": "markdown",
   "metadata": {},
   "source": [
    "The request is processed to completion. The request status is 'complete_with_errors' and there is result url generated."
   ]
  },
  {
   "cell_type": "code",
   "execution_count": null,
   "metadata": {
    "tags": []
   },
   "outputs": [],
   "source": [
    "urls = harmony_client.result_urls(ignore_errors_job_id, show_progress=True)\n",
    "print(*urls, sep='\\n')"
   ]
  },
  {
   "cell_type": "code",
   "execution_count": null,
   "metadata": {
    "tags": []
   },
   "outputs": [],
   "source": [
    "harmony_client.status(ignore_errors_job_id)"
   ]
  }
 ],
 "metadata": {
  "kernelspec": {
   "display_name": "Python 3 (ipykernel)",
   "language": "python",
   "name": "python3"
  },
  "language_info": {
   "codemirror_mode": {
    "name": "ipython",
    "version": 3
   },
   "file_extension": ".py",
   "mimetype": "text/x-python",
   "name": "python",
   "nbconvert_exporter": "python",
   "pygments_lexer": "ipython3",
   "version": "3.11.9"
  }
 },
 "nbformat": 4,
 "nbformat_minor": 4
}
